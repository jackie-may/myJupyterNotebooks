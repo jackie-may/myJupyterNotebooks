{
 "cells": [
  {
   "cell_type": "code",
   "execution_count": 1,
   "metadata": {},
   "outputs": [],
   "source": [
    "#importing libraries\n",
    "import numpy as no\n",
    "import matplotlib.pyplot as plt\n",
    "import pandas as pd\n",
    "import seaborn as sns\n",
    "%matplotlib inline"
   ]
  },
  {
   "cell_type": "code",
   "execution_count": 2,
   "metadata": {},
   "outputs": [],
   "source": [
    "companies = pd.read_csv('insuranceData.csv')\n",
    "#':. :-1' says take every row except for the last column\n",
    "X = companies.iloc[:, :-1].values\n",
    "# equal to the last row\n",
    "y = companies.iloc[:, 4].values\n"
   ]
  },
  {
   "cell_type": "code",
   "execution_count": 3,
   "metadata": {},
   "outputs": [
    {
     "data": {
      "text/html": [
       "<div>\n",
       "<style scoped>\n",
       "    .dataframe tbody tr th:only-of-type {\n",
       "        vertical-align: middle;\n",
       "    }\n",
       "\n",
       "    .dataframe tbody tr th {\n",
       "        vertical-align: top;\n",
       "    }\n",
       "\n",
       "    .dataframe thead th {\n",
       "        text-align: right;\n",
       "    }\n",
       "</style>\n",
       "<table border=\"1\" class=\"dataframe\">\n",
       "  <thead>\n",
       "    <tr style=\"text-align: right;\">\n",
       "      <th></th>\n",
       "      <th>age</th>\n",
       "      <th>bmi</th>\n",
       "      <th>children</th>\n",
       "      <th>smoker</th>\n",
       "      <th>charges</th>\n",
       "    </tr>\n",
       "  </thead>\n",
       "  <tbody>\n",
       "    <tr>\n",
       "      <th>0</th>\n",
       "      <td>19</td>\n",
       "      <td>27.900</td>\n",
       "      <td>0</td>\n",
       "      <td>yes</td>\n",
       "      <td>16884.92400</td>\n",
       "    </tr>\n",
       "    <tr>\n",
       "      <th>1</th>\n",
       "      <td>18</td>\n",
       "      <td>33.770</td>\n",
       "      <td>1</td>\n",
       "      <td>no</td>\n",
       "      <td>1725.55230</td>\n",
       "    </tr>\n",
       "    <tr>\n",
       "      <th>2</th>\n",
       "      <td>28</td>\n",
       "      <td>33.000</td>\n",
       "      <td>3</td>\n",
       "      <td>no</td>\n",
       "      <td>4449.46200</td>\n",
       "    </tr>\n",
       "    <tr>\n",
       "      <th>3</th>\n",
       "      <td>33</td>\n",
       "      <td>22.705</td>\n",
       "      <td>0</td>\n",
       "      <td>no</td>\n",
       "      <td>21984.47061</td>\n",
       "    </tr>\n",
       "    <tr>\n",
       "      <th>4</th>\n",
       "      <td>32</td>\n",
       "      <td>28.880</td>\n",
       "      <td>0</td>\n",
       "      <td>no</td>\n",
       "      <td>3866.85520</td>\n",
       "    </tr>\n",
       "  </tbody>\n",
       "</table>\n",
       "</div>"
      ],
      "text/plain": [
       "   age     bmi  children smoker      charges\n",
       "0   19  27.900         0    yes  16884.92400\n",
       "1   18  33.770         1     no   1725.55230\n",
       "2   28  33.000         3     no   4449.46200\n",
       "3   33  22.705         0     no  21984.47061\n",
       "4   32  28.880         0     no   3866.85520"
      ]
     },
     "execution_count": 3,
     "metadata": {},
     "output_type": "execute_result"
    }
   ],
   "source": [
    "companies.head()\n",
    "#visual is a pandas output"
   ]
  },
  {
   "cell_type": "code",
   "execution_count": 4,
   "metadata": {},
   "outputs": [
    {
     "data": {
      "text/plain": [
       "<AxesSubplot:>"
      ]
     },
     "execution_count": 4,
     "metadata": {},
     "output_type": "execute_result"
    },
    {
     "data": {
      "image/png": "[encoded data removed]",
      "text/plain": [
       "<Figure size 432x288 with 2 Axes>"
      ]
     },
     "metadata": {
      "needs_background": "light"
     },
     "output_type": "display_data"
    }
   ],
   "source": [
    "#data vis\n",
    "#building the correlation matrix\n",
    "sns.heatmap(companies.corr())\n",
    "\n",
    "#lightest data has the highest correlation\n",
    "#darkest has the least correlation"
   ]
  },
  {
   "cell_type": "code",
   "execution_count": 5,
   "metadata": {},
   "outputs": [
    {
     "name": "stdout",
     "output_type": "stream",
     "text": [
      "[[0. 1. 0. ... 0. 0. 1.]\n",
      " [1. 0. 0. ... 0. 1. 0.]\n",
      " [0. 0. 0. ... 0. 1. 0.]\n",
      " ...\n",
      " [1. 0. 0. ... 0. 1. 0.]\n",
      " [0. 0. 0. ... 0. 1. 0.]\n",
      " [0. 0. 0. ... 0. 0. 1.]]\n"
     ]
    }
   ],
   "source": [
    "#encoding categorical data\n",
    "from sklearn.preprocessing import LabelEncoder, OneHotEncoder\n",
    "from sklearn.compose import ColumnTransformer\n",
    "\n",
    "labelencoder = LabelEncoder()\n",
    "\n",
    "#changes state names to numbers so the code can read it\n",
    "#':,' means we will look at all the different rows\n",
    "#' 3' only editing the third row\n",
    "X[:, 3] = labelencoder.fit_transform(X[:, 3])\n",
    "\n",
    "#\n",
    "onehotencoder = OneHotEncoder(categories = 'auto')\n",
    "#preps the data so its just a row of numbers\n",
    "X = onehotencoder.fit_transform(X).toarray()\n",
    "print(X)"
   ]
  },
  {
   "cell_type": "code",
   "execution_count": 6,
   "metadata": {},
   "outputs": [],
   "source": [
    "#avoiding dummy variable trap\n",
    "X = X[:, 1:]"
   ]
  },
  {
   "cell_type": "code",
   "execution_count": 7,
   "metadata": {},
   "outputs": [],
   "source": [
    "#splitting the dataset into the training set and test set\n",
    "from sklearn.model_selection import train_test_split\n",
    "X_train, X_test, y_train, y_test = train_test_split(X, y, test_size = 0.2, random_state = 0)"
   ]
  },
  {
   "cell_type": "code",
   "execution_count": 8,
   "metadata": {},
   "outputs": [
    {
     "data": {
      "text/plain": [
       "LinearRegression()"
      ]
     },
     "execution_count": 8,
     "metadata": {},
     "output_type": "execute_result"
    }
   ],
   "source": [
    "#fitting multiple linear regression to the training set\n",
    "from sklearn.linear_model import LinearRegression\n",
    "model_fit = LinearRegression()\n",
    "model_fit.fit(X_train, y_train)"
   ]
  },
  {
   "cell_type": "code",
   "execution_count": 9,
   "metadata": {},
   "outputs": [],
   "source": [
    "#splitting the dataset into the training set and test set\n",
    "from sklearn.model_selection import train_test_split\n",
    "#4 variables\n",
    "#x = data going in (r&d, )\n",
    "#y = data coming out (profit, )\n",
    "#'train_test_split()' = only testing .2 of the data \n",
    "X_train, X_test, y_train, y_test = train_test_split(X, y, test_size = 0.15, random_state = 0)"
   ]
  },
  {
   "cell_type": "code",
   "execution_count": 10,
   "metadata": {},
   "outputs": [
    {
     "data": {
      "text/plain": [
       "LinearRegression()"
      ]
     },
     "execution_count": 10,
     "metadata": {},
     "output_type": "execute_result"
    }
   ],
   "source": [
    "#fitting multiple linear regression to the training set\n",
    "from sklearn.linear_model import LinearRegression\n",
    "regressor = LinearRegression()\n",
    "#creates the whole llinear regression model\n",
    "regressor.fit(X_train, y_train)"
   ]
  },
  {
   "cell_type": "code",
   "execution_count": 11,
   "metadata": {},
   "outputs": [
    {
     "data": {
      "text/plain": [
       "array([ 1.28000000e+04, -3.73867859e+16,  4.04480000e+04,  1.42080000e+04,\n",
       "       -4.95792793e+17,  2.30400000e+03,  1.40800000e+03,  1.72800000e+04,\n",
       "        7.55200000e+03,  7.55200000e+03,  5.09375819e+17,  1.61280000e+04,\n",
       "        4.73600000e+03,  4.73600000e+03,  3.00800000e+04, -1.39263856e+16,\n",
       "        1.35680000e+04,  1.60000000e+04,  5.76000000e+03,  1.45745725e+16,\n",
       "        2.98240000e+04,  2.22720000e+04,  8.06400000e+03,  3.34080000e+04,\n",
       "        2.61861731e+16,  1.40800000e+03, -3.84000000e+03,  7.29600000e+03,\n",
       "        4.09600000e+03,  1.44640000e+04,  8.96000000e+02,  3.87840000e+04,\n",
       "        1.63840000e+04,  1.95184605e+18, -6.33000584e+17,  4.48000000e+03,\n",
       "        1.74080000e+04,  2.63560528e+16,  3.16160000e+04, -1.15200000e+03,\n",
       "        4.73600000e+03, -5.50400000e+03,  2.64960000e+04,  3.81440000e+04,\n",
       "        2.50880000e+04,  3.71200000e+03,  1.39520000e+04,  4.99200000e+03,\n",
       "        1.94481240e+17,  5.37600000e+03,  7.22533933e+15,  3.20000000e+03,\n",
       "        3.80160000e+04,  3.22560000e+04,  8.83200000e+03,  8.70354487e+16,\n",
       "        9.75436486e+14,  1.08800000e+04,  5.33803548e+17,  1.49760000e+04,\n",
       "        8.96000000e+02,  3.45600000e+04,  1.92000000e+04,  1.61280000e+04,\n",
       "        2.02240000e+04,  7.29600000e+03,  2.39360000e+04,  2.98240000e+04,\n",
       "        4.69417724e+17,  6.40000000e+03, -1.68432401e+17,  3.45600000e+03,\n",
       "        6.36722178e+17,  1.34400000e+04,  1.01120000e+04,  1.34400000e+04,\n",
       "        8.32000000e+03, -3.67325405e+17,  3.03360000e+04,  4.18560000e+04,\n",
       "        1.07520000e+04,  2.63560528e+16,  5.24800000e+03,  1.29280000e+04,\n",
       "        3.43040000e+04,  2.84160000e+04,  4.99200000e+03,  6.52800000e+03,\n",
       "        1.67680000e+04,  3.11040000e+04,  1.97342875e+18,  1.03680000e+04,\n",
       "        5.12000000e+03,  1.34400000e+04,  1.50094363e+16,  3.71200000e+03,\n",
       "        1.45745725e+16,  3.55840000e+04,  8.57600000e+03,  2.63560528e+16,\n",
       "        1.62560000e+04,  1.65120000e+04,  1.01120000e+04,  2.93120000e+04,\n",
       "        2.47040000e+04,  6.52800000e+03, -3.74111040e+17,  4.09600000e+03,\n",
       "        7.22533933e+15,  4.16000000e+04,  1.45920000e+04,  9.98400000e+03,\n",
       "        7.04000000e+03,  2.76480000e+04,  3.46880000e+04,  6.78400000e+03,\n",
       "        3.43907727e+17,  9.85600000e+03,  1.31840000e+04,  8.32000000e+03,\n",
       "        2.99520000e+04,  9.85600000e+03,  2.63560528e+16,  4.09600000e+03,\n",
       "        1.15200000e+04,  1.40800000e+03,  3.52000000e+04,  3.27680000e+04,\n",
       "        2.63560528e+16,  1.60000000e+04,  2.43200000e+03,  2.61861731e+16,\n",
       "       -3.67325405e+17, -6.40000000e+02,  2.34240000e+04,  2.88000000e+04,\n",
       "       -2.62957365e+17,  2.00196097e+17,  5.90051054e+17,  5.76000000e+03,\n",
       "        4.48000000e+03,  1.08800000e+04,  8.83200000e+03,  1.48480000e+04,\n",
       "        8.96000000e+02,  1.62560000e+04,  2.63560528e+16,  6.52800000e+03,\n",
       "        1.15200000e+03,  1.39520000e+04,  1.19040000e+04,  2.82880000e+04,\n",
       "        1.06240000e+04,  2.43200000e+03,  2.63560528e+16, -2.94400000e+03,\n",
       "        9.34400000e+03, -3.73867859e+16,  6.27200000e+03,  9.72800000e+03,\n",
       "        1.57950339e+17,  2.63560528e+16,  9.34400000e+03,  2.63560528e+16,\n",
       "       -6.33000584e+17,  1.36960000e+04,  3.31909030e+17,  7.04000000e+03,\n",
       "       -3.84000000e+02, -3.84000000e+02,  1.12640000e+04,  3.32800000e+03,\n",
       "        1.45745725e+16,  8.32000000e+03,  7.04000000e+03,  6.78400000e+03,\n",
       "        7.29600000e+03, -1.02400000e+03,  3.45600000e+04,  1.92000000e+03,\n",
       "        1.57440000e+04,  5.76000000e+03,  2.05013275e+16,  5.88800000e+03,\n",
       "       -1.02400000e+03,  3.23840000e+04,  7.04000000e+03,  3.45600000e+03,\n",
       "        1.83040000e+04,  1.58720000e+04,  3.57120000e+04,  3.96800000e+03,\n",
       "        2.94400000e+03,  2.90560000e+04,  9.85600000e+03,  5.76000000e+03,\n",
       "        6.27200000e+03,  2.63560528e+16,  5.63200000e+03,  9.60000000e+03,\n",
       "        1.57440000e+04])"
      ]
     },
     "execution_count": 11,
     "metadata": {},
     "output_type": "execute_result"
    }
   ],
   "source": [
    "#predicting the test set results\n",
    "y_pred = regressor.predict(X_test)\n",
    "y_pred"
   ]
  },
  {
   "cell_type": "code",
   "execution_count": 12,
   "metadata": {},
   "outputs": [
    {
     "name": "stdout",
     "output_type": "stream",
     "text": [
      "[ 1.74525339e+03 -5.97300222e+02  7.53548145e+02  3.08607224e+03\n",
      "  3.77338819e+03  5.45490270e+03  1.50152798e+03  3.50314380e+03\n",
      "  5.20539495e+03  3.89318060e+03  2.51476776e+03  3.78290825e+03\n",
      "  3.55352395e+03  1.10785272e+03  5.72070122e+03  4.42398788e+03\n",
      "  3.30138486e+03  5.63697840e+03  6.08132704e+03  3.82148087e+03\n",
      "  3.65429704e+03  2.87070239e+03  4.23361109e+03  2.18527002e+03\n",
      "  3.53927904e+03  7.14942406e+03  9.40667574e+03  7.86869668e+03\n",
      "  8.21026782e+03  7.31539496e+03  7.74493504e+03  1.16785300e+04\n",
      "  7.35351983e+03  9.21334752e+03  1.05064745e+04  1.23991910e+04\n",
      "  1.04793619e+04  1.01921735e+04  1.01278821e+04  8.99581486e+03\n",
      "  1.24102180e+04  1.23223609e+04  1.43557664e+04  1.11810089e+04\n",
      "  1.20466278e+04  1.45184763e+04 -2.63560528e+16 -2.63560528e+16\n",
      " -2.63560528e+16 -2.63560528e+16 -2.63560528e+16 -2.63560528e+16\n",
      " -2.63560528e+16 -2.63560528e+16 -2.63560528e+16 -2.63560528e+16\n",
      " -2.63560528e+16 -2.63560528e+16 -5.22148846e+17 -2.63560528e+16\n",
      " -2.63560528e+16 -2.63560528e+16 -2.63560528e+16 -2.63560528e+16\n",
      " -2.63560528e+16  4.83019766e+17 -2.63560528e+16 -2.63560528e+16\n",
      " -2.63560528e+16 -2.63560528e+16 -2.63560528e+16 -2.63560528e+16\n",
      " -2.63560528e+16 -2.63560528e+16 -2.63560528e+16 -2.63560528e+16\n",
      " -2.63560528e+16 -2.63560528e+16 -2.63560528e+16 -2.63560528e+16\n",
      " -2.63560528e+16 -2.63560528e+16 -6.59356637e+17 -2.63560528e+16\n",
      " -2.63560528e+16 -2.63560528e+16 -2.63560528e+16 -2.63560528e+16\n",
      " -2.63560528e+16 -2.63560528e+16 -2.63560528e+16 -2.63560528e+16\n",
      " -2.63560528e+16 -2.63560528e+16 -2.63560528e+16 -2.63560528e+16\n",
      " -2.63560528e+16 -2.63560528e+16 -2.63560528e+16 -2.63560528e+16\n",
      " -2.63560528e+16  3.05552977e+17 -2.63560528e+16 -2.63560528e+16\n",
      " -2.63560528e+16 -2.63560528e+16  4.43061671e+17  1.68125187e+17\n",
      "  3.17551674e+17 -2.63560528e+16 -4.00467093e+17 -2.63560528e+16\n",
      " -2.63560528e+16 -2.63560528e+16 -2.63560528e+16 -2.63560528e+16\n",
      " -2.63560528e+16 -2.63560528e+16 -2.63560528e+16 -2.63560528e+16\n",
      " -2.63560528e+16 -2.63560528e+16  5.63695002e+17 -2.63560528e+16\n",
      " -2.63560528e+16 -2.63560528e+16 -2.63560528e+16 -2.63560528e+16\n",
      " -2.63560528e+16 -2.63560528e+16 -2.63560528e+16 -2.63560528e+16\n",
      " -2.63560528e+16 -2.63560528e+16 -2.63560528e+16 -2.63560528e+16\n",
      " -2.63560528e+16  1.73840044e+17 -2.63560528e+16 -2.63560528e+16\n",
      " -2.63560528e+16 -2.63560528e+16 -2.63560528e+16 -2.63560528e+16\n",
      " -2.63560528e+16 -2.63560528e+16 -2.63560528e+16 -2.63560528e+16\n",
      " -2.63560528e+16 -2.63560528e+16 -2.63560528e+16 -2.63560528e+16\n",
      " -2.63560528e+16 -2.63560528e+16 -2.63560528e+16 -2.63560528e+16\n",
      " -2.63560528e+16 -2.63560528e+16 -2.63560528e+16 -2.63560528e+16\n",
      " -2.63560528e+16 -2.63560528e+16 -2.63560528e+16 -2.63560528e+16\n",
      " -2.63560528e+16 -2.63560528e+16 -2.89313418e+17 -2.63560528e+16\n",
      " -2.63560528e+16 -2.63560528e+16 -2.63560528e+16 -2.63560528e+16\n",
      " -2.63560528e+16 -2.63560528e+16 -2.63560528e+16 -2.63560528e+16\n",
      " -2.63560528e+16 -2.63560528e+16 -2.63560528e+16 -2.63560528e+16\n",
      " -2.63560528e+16 -2.63560528e+16 -2.63560528e+16 -2.63560528e+16\n",
      " -2.63560528e+16  5.07447495e+17 -2.63560528e+16 -2.63560528e+16\n",
      " -2.63560528e+16 -2.63560528e+16 -2.63560528e+16 -2.63560528e+16\n",
      " -2.63560528e+16 -2.63560528e+16 -2.63560528e+16 -2.63560528e+16\n",
      " -2.63560528e+16 -2.63560528e+16 -2.63560528e+16 -2.63560528e+16\n",
      " -2.63560528e+16 -2.63560528e+16 -2.63560528e+16 -2.63560528e+16\n",
      " -2.63560528e+16 -2.63560528e+16 -2.63560528e+16 -2.63560528e+16\n",
      " -2.63560528e+16 -2.63560528e+16 -2.63560528e+16 -2.63560528e+16\n",
      " -2.63560528e+16 -2.63560528e+16 -2.63560528e+16 -2.63560528e+16\n",
      " -2.63560528e+16 -2.63560528e+16 -2.63560528e+16 -2.63560528e+16\n",
      " -2.63560528e+16 -2.63560528e+16 -2.63560528e+16 -2.63560528e+16\n",
      " -2.63560528e+16 -2.63560528e+16 -2.63560528e+16 -2.63560528e+16\n",
      "  6.10366125e+17 -2.63560528e+16 -2.63560528e+16 -2.63560528e+16\n",
      " -2.63560528e+16 -2.63560528e+16 -2.63560528e+16 -2.63560528e+16\n",
      " -2.63560528e+16 -2.63560528e+16 -2.63560528e+16 -2.63560528e+16\n",
      " -2.63560528e+16 -2.63560528e+16 -2.63560528e+16 -2.63560528e+16\n",
      " -2.63560528e+16 -2.63560528e+16 -2.63560528e+16 -2.63560528e+16\n",
      " -2.63560528e+16 -2.63560528e+16 -2.63560528e+16 -4.02824385e+16\n",
      " -1.94788454e+17 -2.63560528e+16 -2.63560528e+16 -2.63560528e+16\n",
      " -2.63560528e+16 -2.63560528e+16 -2.63560528e+16 -2.63560528e+16\n",
      " -2.63560528e+16 -2.63560528e+16 -2.63560528e+16 -2.63560528e+16\n",
      " -2.63560528e+16 -2.63560528e+16 -2.63560528e+16 -2.63560528e+16\n",
      " -2.63560528e+16 -2.63560528e+16 -2.63560528e+16 -2.63560528e+16\n",
      " -2.63560528e+16 -2.63560528e+16 -2.63560528e+16 -2.63560528e+16\n",
      " -2.63560528e+16 -2.63560528e+16 -2.63560528e+16 -2.63560528e+16\n",
      " -2.63560528e+16 -2.63560528e+16 -2.63560528e+16 -6.37428387e+16\n",
      " -2.63560528e+16 -2.63560528e+16 -2.63560528e+16 -2.63560528e+16\n",
      " -2.63560528e+16 -2.63560528e+16 -2.63560528e+16 -2.63560528e+16\n",
      " -2.63560528e+16 -2.63560528e+16 -2.63560528e+16 -2.63560528e+16\n",
      " -2.63560528e+16 -2.63560528e+16 -2.63560528e+16 -2.63560528e+16\n",
      " -2.63560528e+16 -2.63560528e+16 -2.63560528e+16 -2.63560528e+16\n",
      " -2.63560528e+16 -2.63560528e+16 -2.63560528e+16 -2.63560528e+16\n",
      " -2.63560528e+16 -2.63560528e+16 -2.63560528e+16 -2.63560528e+16\n",
      " -2.63560528e+16 -2.63560528e+16 -2.63560528e+16 -2.63560528e+16\n",
      " -1.17814804e+16 -3.93681458e+17 -2.63560528e+16 -2.63560528e+16\n",
      " -2.63560528e+16 -2.63560528e+16 -2.63560528e+16 -2.63560528e+16\n",
      " -2.63560528e+16 -2.63560528e+16 -2.63560528e+16 -2.63560528e+16\n",
      " -2.63560528e+16 -2.63560528e+16 -2.63560528e+16 -2.63560528e+16\n",
      " -2.63560528e+16 -2.63560528e+16 -2.63560528e+16 -2.63560528e+16\n",
      " -2.63560528e+16 -2.63560528e+16 -2.63560528e+16 -2.63560528e+16\n",
      " -2.63560528e+16 -2.63560528e+16 -2.63560528e+16 -2.63560528e+16\n",
      " -2.63560528e+16 -2.63560528e+16 -2.63560528e+16 -2.63560528e+16\n",
      " -2.63560528e+16 -2.63560528e+16 -2.63560528e+16 -2.63560528e+16\n",
      " -2.63560528e+16 -2.63560528e+16 -2.63560528e+16 -2.63560528e+16\n",
      " -2.63560528e+16 -2.63560528e+16 -2.63560528e+16 -2.63560528e+16\n",
      " -2.63560528e+16 -2.63560528e+16 -2.63560528e+16 -2.63560528e+16\n",
      " -2.63560528e+16 -2.63560528e+16  1.31594286e+17 -2.63560528e+16\n",
      " -2.63560528e+16 -2.63560528e+16 -2.63560528e+16 -2.63560528e+16\n",
      " -2.63560528e+16 -2.63560528e+16 -2.63560528e+16 -2.63560528e+16\n",
      " -2.63560528e+16 -2.63560528e+16 -2.63560528e+16 -2.63560528e+16\n",
      " -2.63560528e+16 -2.63560528e+16 -2.63560528e+16 -2.63560528e+16\n",
      " -2.63560528e+16 -2.63560528e+16 -2.63560528e+16 -2.63560528e+16\n",
      " -2.63560528e+16 -2.63560528e+16 -2.63560528e+16 -2.63560528e+16\n",
      " -2.63560528e+16 -2.63560528e+16 -2.63560528e+16 -2.63560528e+16\n",
      " -1.69879722e+14 -2.63560528e+16 -2.63560528e+16 -2.63560528e+16\n",
      " -2.63560528e+16 -2.63560528e+16 -5.85472537e+15 -2.63560528e+16\n",
      " -2.63560528e+16 -2.63560528e+16 -2.63560528e+16 -2.63560528e+16\n",
      " -2.63560528e+16 -2.63560528e+16 -2.63560528e+16 -2.63560528e+16\n",
      " -2.63560528e+16 -2.63560528e+16 -2.63560528e+16 -2.63560528e+16\n",
      " -2.63560528e+16 -1.13466165e+16 -2.63560528e+16 -2.63560528e+16\n",
      " -2.63560528e+16 -1.91307135e+16 -2.63560528e+16 -2.63560528e+16\n",
      " -2.63560528e+16 -2.63560528e+16 -2.63560528e+16 -2.63560528e+16\n",
      " -2.63560528e+16 -2.63560528e+16 -2.63560528e+16 -2.63560528e+16\n",
      " -2.63560528e+16 -2.53806164e+16  6.06793958e+16 -2.63560528e+16\n",
      " -2.63560528e+16 -2.63560528e+16 -2.63560528e+16 -2.63560528e+16\n",
      " -2.63560528e+16 -2.63560528e+16 -2.63560528e+16 -2.63560528e+16\n",
      " -2.63560528e+16 -2.63560528e+16 -2.63560528e+16 -2.63560528e+16\n",
      " -2.63560528e+16 -2.63560528e+16 -2.63560528e+16 -2.63560528e+16\n",
      " -2.63560528e+16 -2.63560528e+16 -2.63560528e+16 -2.63560528e+16\n",
      " -8.82992026e-07 -2.63560528e+16 -2.63560528e+16 -2.56282835e-05\n",
      " -2.63560528e+16 -2.01234845e-05 -2.63560528e+16 -2.63560528e+16\n",
      " -2.63560528e+16 -2.63560528e+16 -2.63560528e+16 -2.63560528e+16\n",
      " -2.63560528e+16 -2.63560528e+16 -2.63560528e+16 -2.63560528e+16\n",
      " -2.63560528e+16 -2.63560528e+16 -2.63560528e+16 -2.63560528e+16\n",
      "  1.94707269e+18 -2.63560528e+16 -2.63560528e+16  1.92549000e+18\n",
      " -2.63560528e+16 -2.63560528e+16 -2.63560528e+16 -2.63560528e+16\n",
      " -2.63560528e+16 -2.63560528e+16 -2.63560528e+16 -2.63560528e+16\n",
      " -2.63560528e+16 -2.63560528e+16 -2.63560528e+16 -2.63560528e+16\n",
      " -2.63560528e+16 -2.63560528e+16 -2.63560528e+16 -2.63560528e+16\n",
      " -2.63560528e+16 -2.63560528e+16 -2.63560528e+16 -2.63560528e+16\n",
      " -2.63560528e+16 -2.63560528e+16 -2.63560528e+16 -2.63560528e+16\n",
      " -2.63560528e+16 -2.63560528e+16 -2.63560528e+16 -2.63560528e+16\n",
      " -2.63560528e+16 -2.63560528e+16 -2.63560528e+16 -2.63560528e+16\n",
      " -2.63560528e+16 -2.63560528e+16 -2.63560528e+16 -2.63560528e+16\n",
      " -2.63560528e+16 -2.63560528e+16 -2.63560528e+16 -2.63560528e+16\n",
      " -1.70530257e-12  1.36424205e-11 -2.63560528e+16 -2.63560528e+16\n",
      " -2.63560528e+16 -2.63560528e+16  9.09494702e-12 -7.27595761e-12\n",
      " -2.63560528e+16 -2.63560528e+16 -2.63560528e+16 -2.63560528e+16\n",
      " -2.63560528e+16 -3.18323146e-12 -2.63560528e+16 -2.63560528e+16\n",
      " -2.63560528e+16 -2.63560528e+16 -2.63560528e+16 -2.63560528e+16\n",
      " -2.63560528e+16 -2.63560528e+16 -2.63560528e+16 -2.63560528e+16\n",
      " -2.63560528e+16 -2.63560528e+16 -2.63560528e+16 -2.63560528e+16\n",
      " -2.63560528e+16 -2.63560528e+16 -2.63560528e+16 -2.63560528e+16\n",
      " -2.63560528e+16 -2.63560528e+16 -2.63560528e+16 -2.63560528e+16\n",
      " -2.63560528e+16 -2.63560528e+16 -2.63560528e+16 -2.63560528e+16\n",
      " -2.63560528e+16 -2.63560528e+16 -2.63560528e+16 -2.63560528e+16\n",
      " -2.63560528e+16 -2.63560528e+16 -2.63560528e+16 -2.63560528e+16\n",
      " -2.63560528e+16 -2.63560528e+16 -2.63560528e+16 -2.63560528e+16\n",
      " -2.63560528e+16 -2.63560528e+16 -2.63560528e+16 -2.63560528e+16\n",
      " -2.63560528e+16 -2.63560528e+16 -2.63560528e+16 -2.63560528e+16\n",
      " -2.63560528e+16 -3.63797881e-12 -2.63560528e+16 -2.63560528e+16\n",
      " -2.63560528e+16 -2.63560528e+16 -2.63560528e+16 -2.63560528e+16\n",
      " -2.63560528e+16 -2.63560528e+16 -2.63560528e+16 -2.63560528e+16\n",
      " -2.63560528e+16 -2.63560528e+16 -4.09173145e+17 -4.09173145e+17\n",
      " -4.09173145e+17 -4.09173145e+17 -4.09173145e+17 -4.09173145e+17\n",
      " -4.30916045e+17 -4.30916045e+17]\n"
     ]
    }
   ],
   "source": [
    "#calculating the coefficients\n",
    "print(regressor.coef_)"
   ]
  },
  {
   "cell_type": "code",
   "execution_count": 13,
   "metadata": {},
   "outputs": [
    {
     "name": "stdout",
     "output_type": "stream",
     "text": [
      "8.664452427981805e+17\n"
     ]
    }
   ],
   "source": [
    "#calculating the intercept\n",
    "print(regressor.intercept_)"
   ]
  },
  {
   "cell_type": "code",
   "execution_count": 14,
   "metadata": {},
   "outputs": [
    {
     "data": {
      "text/plain": [
       "-3.322249822564123e+26"
      ]
     },
     "execution_count": 14,
     "metadata": {},
     "output_type": "execute_result"
    }
   ],
   "source": [
    "#successful linear regression model\n",
    "from sklearn.metrics import r2_score\n",
    "r2_score(y_test, y_pred)"
   ]
  },
  {
   "cell_type": "code",
   "execution_count": null,
   "metadata": {},
   "outputs": [],
   "source": []
  },
  {
   "cell_type": "code",
   "execution_count": null,
   "metadata": {},
   "outputs": [],
   "source": []
  }
 ],
 "metadata": {
  "kernelspec": {
   "display_name": "Python 3",
   "language": "python",
   "name": "python3"
  },
  "language_info": {
   "codemirror_mode": {
    "name": "ipython",
    "version": 3
   },
   "file_extension": ".py",
   "mimetype": "text/x-python",
   "name": "python",
   "nbconvert_exporter": "python",
   "pygments_lexer": "ipython3",
   "version": "3.8.5"
  }
 },
 "nbformat": 4,
 "nbformat_minor": 4
}
